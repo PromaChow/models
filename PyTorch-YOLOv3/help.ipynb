{
 "cells": [
  {
   "cell_type": "code",
   "execution_count": 4,
   "metadata": {},
   "outputs": [
    {
     "name": "stdout",
     "output_type": "stream",
     "text": [
      "Namespace(image_folder='/Users/promachowdhury/Downloads/All Dataset/ds', weights_path='/Users/promachowdhury/Downloads/yolov3_ckpt.pth', dataset='rico10k', conf_thres=0.8, nms_thres=0.4, batch_size=1, n_cpu=0, img_size=416, checkpoint_model=None, model_def='config/yolov3-10k.cfg', class_path='data/rico10k/classes.names')\n",
      "Traceback (most recent call last):\n",
      "  File \"/Users/promachowdhury/Object-Detection-for-Graphical-User-Interface/PyTorch-YOLOv3/detect.py\", line 49, in <module>\n",
      "    model = Darknet(opt.model_def, img_size=opt.img_size).to(device)\n",
      "  File \"/Users/promachowdhury/Object-Detection-for-Graphical-User-Interface/PyTorch-YOLOv3/models.py\", line 239, in __init__\n",
      "    self.module_defs = parse_model_config(config_path)\n",
      "  File \"/Users/promachowdhury/Object-Detection-for-Graphical-User-Interface/PyTorch-YOLOv3/utils/parse_config.py\", line 5, in parse_model_config\n",
      "    file = open(path, 'r')\n",
      "FileNotFoundError: [Errno 2] No such file or directory: 'config/yolov3-10k.cfg'\n"
     ]
    }
   ],
   "source": [
    "!python3 'detect.py'  \\\n",
    "--weights_path /Users/promachowdhury/Downloads/yolov3_ckpt.pth \\\n",
    "--dataset rico10k \\\n",
    "--image_folder '/Users/promachowdhury/Downloads/All Dataset/ds'\\\n",
    "--class_path 'data/rico10k/classes.names'\\\n",
    "--model_def 'config/yolov3-10k.cfg'\n"
   ]
  },
  {
   "cell_type": "code",
   "execution_count": null,
   "metadata": {},
   "outputs": [],
   "source": []
  }
 ],
 "metadata": {
  "kernelspec": {
   "display_name": "py310",
   "language": "python",
   "name": "python3"
  },
  "language_info": {
   "codemirror_mode": {
    "name": "ipython",
    "version": 3
   },
   "file_extension": ".py",
   "mimetype": "text/x-python",
   "name": "python",
   "nbconvert_exporter": "python",
   "pygments_lexer": "ipython3",
   "version": "3.10.11"
  }
 },
 "nbformat": 4,
 "nbformat_minor": 2
}
